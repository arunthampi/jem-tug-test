{
 "metadata": {
  "name": ""
 },
 "nbformat": 3,
 "nbformat_minor": 0,
 "worksheets": [
  {
   "cells": [
    {
     "cell_type": "heading",
     "level": 1,
     "metadata": {},
     "source": [
      "Lesson 04: The Red Pill"
     ]
    },
    {
     "cell_type": "markdown",
     "metadata": {},
     "source": [
      "<p><span style=\"line-height: 1.5em;\">Linear Algebra is a very broad and encompassing subject in mathematics, with quite a\u00a0</span><a href=\"http://jeff560.tripod.com/matrices.html\" style=\"line-height: 1.5em;\">long history</a><span style=\"line-height: 1.5em;\">, dating back to\u00a0</span><a data-original-title=\"\" href=\"http://it.stlawu.edu/~dmelvill/mesomath/erbiblio.html#Friberg\" style=\"line-height: 1.5em;\" title=\"\">Babylonian, and possibly Ancient Egyptian</a><span style=\"line-height: 1.5em;\">\u00a0sources. It is difficult to find any other part of mathematics that does not rely on linear algebra. Apropos, a Hollywood trope of \u201cthe red pill\u201d traces through\u00a0</span><a href=\"http://www.imdb.com/title/tt0133093/\" style=\"line-height: 1.5em;\">The Matrix</a><span style=\"line-height: 1.5em;\">\u00a0(1999),\u00a0</span><a href=\"http://www.imdb.com/title/tt0100802/\" style=\"line-height: 1.5em;\">Total Recall</a><span style=\"line-height: 1.5em;\">\u00a0(1990), and probably originated from a\u00a0</span><a href=\"http://en.wikipedia.org/wiki/We_Can_Remember_It_for_You_Wholesale\" style=\"line-height: 1.5em;\">Philip K. Dick story</a><span style=\"line-height: 1.5em;\">\u00a0(1966). It signifies both an embrace of reality and a call to action. A mathematician could not ask for better.</span></p>"
     ]
    },
    {
     "cell_type": "markdown",
     "metadata": {},
     "source": [
      "<p>Let\u2019s start with the notion of a\u00a0<em>vector</em>, which is simply a one-dimensional array of values:</p>"
     ]
    },
    {
     "cell_type": "markdown",
     "metadata": {},
     "source": [
      "<p><span class=\"math-tex\" data-type=\"tex\">\\begin{eqnarray} x & = & \\left[ 2,3,1,0 \\right] \\end{eqnarray}</span></p>"
     ]
    },
    {
     "cell_type": "markdown",
     "metadata": {},
     "source": [
      "<p>Next, we\u2019ll contrast that with the notion of a\u00a0<em>scalar</em>, which is simply a value:</p>"
     ]
    },
    {
     "cell_type": "markdown",
     "metadata": {},
     "source": [
      "<p><span class=\"math-tex\" data-type=\"tex\"><p><span class=\"math-tex\" data-type=\"tex\">\\begin{eqnarray} a & = & 3 \\end{eqnarray}</span></p></span></p>"
     ]
    },
    {
     "cell_type": "markdown",
     "metadata": {},
     "source": [
      "<p>An addition operation performed on a vector and a scalar produces another vector:</p>"
     ]
    },
    {
     "cell_type": "markdown",
     "metadata": {},
     "source": [
      "<p><span class=\"math-tex\" data-type=\"tex\">\\begin{eqnarray} a+x & = & \\left[ 3+2,3+3,3+1,3+0 \\right] \\\\ & = & { \\left[ 5,6,4,3 \\right] } \\end{eqnarray}</span></p>"
     ]
    },
    {
     "cell_type": "markdown",
     "metadata": {},
     "source": [
      "<p>Or we might do a multiplication to produce another vector:</p>"
     ]
    },
    {
     "cell_type": "markdown",
     "metadata": {},
     "source": [
      "<p><span class=\"math-tex\" data-type=\"tex\">\\begin{eqnarray} b & = & 2 \\\\ b\\cdot x & = & \\left[ 2\\cdot 2,2\\cdot 3,2\\cdot 1,2\\cdot 0 \\right] \\\\ & = & { \\left[ 4, 6, 2, 0 \\right] } \\end{eqnarray}</span></p>"
     ]
    },
    {
     "cell_type": "markdown",
     "metadata": {},
     "source": [
      "<p>Or we could add two vectors together to produce another vector:</p>"
     ]
    },
    {
     "cell_type": "markdown",
     "metadata": {},
     "source": [
      "<p><span class=\"math-tex\" data-type=\"tex\">\\begin{eqnarray} y & = & \\left[ 5,1,5,0 \\right] \\\\ x+y & = & \\left[ 2+5,3+1,1+5,0+0 \\right] \\\\ & = & { \\left[ 7,4,6,0 \\right] } \\end{eqnarray}</span></p>"
     ]
    },
    {
     "cell_type": "markdown",
     "metadata": {},
     "source": [
      "<p>Recall from the basic definitions in abstract algebra:</p>"
     ]
    },
    {
     "cell_type": "markdown",
     "metadata": {},
     "source": [
      "<blockquote>\n",
      "<p><em>ring</em>\u00a0\u2013 semigroup with two binary associative operations, addition and multiplication</p>\n",
      "</blockquote>"
     ]
    },
    {
     "cell_type": "markdown",
     "metadata": {},
     "source": [
      "<p>The closure property is here \u2013 gotcha, and there are binary associative operations for addition and multiplication \u2013 gotcha. This is familiar turf. Check out the definition of an\u00a0<a data-original-title=\"\" href=\"http://empg.maths.ed.ac.uk/xmlearning/lecture_notes/vector_spaces/abstract_vector_spaces/abstract_vector_spaces.php\" title=\"\">abstract vector space</a>, which begins to bridge between abstract algebra and linear algebra.</p>"
     ]
    },
    {
     "cell_type": "markdown",
     "metadata": {},
     "source": [
      "<p>Let\u2019s push beyond that \u2013 let\u2019s multiply two vectors. There are a couple ways to do that. First, we can use a\u00a0<em>dot product</em>, sometimes called an\u00a0<em>inner product</em>, to produce a scalar. In Python, we can use the\u00a0<code>linalg</code>\u00a0package in\u00a0<a href=\"http://docs.scipy.org/doc/numpy/reference/routines.linalg.html\">NumPy</a>\u00a0to perform a dot product \u2013 using combinations of both vectors and scalars:</p>"
     ]
    },
    {
     "cell_type": "code",
     "collapsed": false,
     "input": [
      "import numpy as np\n",
      "\n",
      "x = [ 2, 3, 1, 0 ]\n",
      "y = [ 5, 1, 5, 0 ]\n",
      "\n",
      "a = 3\n",
      "b = 2"
     ],
     "language": "python",
     "metadata": {},
     "outputs": []
    },
    {
     "cell_type": "markdown",
     "metadata": {},
     "source": [
      "First, try the operations with scalars and vectors:"
     ]
    },
    {
     "cell_type": "code",
     "collapsed": false,
     "input": [
      "np.add(a, x)"
     ],
     "language": "python",
     "metadata": {},
     "outputs": []
    },
    {
     "cell_type": "code",
     "collapsed": false,
     "input": [
      "np.dot(b, x)"
     ],
     "language": "python",
     "metadata": {},
     "outputs": []
    },
    {
     "cell_type": "code",
     "collapsed": false,
     "input": [
      "np.add(x, y)"
     ],
     "language": "python",
     "metadata": {},
     "outputs": []
    },
    {
     "cell_type": "code",
     "collapsed": false,
     "input": [
      "np.dot(x, y)"
     ],
     "language": "python",
     "metadata": {},
     "outputs": []
    },
    {
     "cell_type": "markdown",
     "metadata": {},
     "source": [
      "The operations for the vector dot product are:"
     ]
    },
    {
     "cell_type": "markdown",
     "metadata": {},
     "source": [
      "<p><span class=\"math-tex\" data-type=\"tex\">\\begin{eqnarray} x\\cdot y & = & 2\\cdot 5+3\\cdot 1+1\\cdot 5+0\\cdot 0 \\\\ & = & { 10+3+5+0 } \\\\ & = & 18 \\end{eqnarray}</span></p>"
     ]
    },
    {
     "cell_type": "markdown",
     "metadata": {},
     "source": [
      "<p>Next, let\u2019s consider the notion of a\u00a0<em style=\"line-height: 1.5em;\">matrix</em> \u2013 not the blockbuster movie franchise, but the thing that was a spreadsheet long before spreadsheets became\u00a0<a href=\"http://apple2history.org/history/ah18/#07\" style=\"line-height: 1.5em;\">Apple II software</a>. We\u2019ll define a matrix\u00a0<strong>A</strong> as:</p>"
     ]
    },
    {
     "cell_type": "markdown",
     "metadata": {},
     "source": [
      "<p><span class=\"math-tex\" data-type=\"tex\">\\begin{eqnarray} \\textbf{A}=\\begin{bmatrix} 1 & 2 \\\\ 3 & 4 \\end{bmatrix} \\end{eqnarray}</span></p>"
     ]
    },
    {
     "cell_type": "markdown",
     "metadata": {},
     "source": [
      "<p>\u00a0<span style=\"line-height: 1.5em;\">Then another matrix\u00a0<strong>B</strong> as:</span></p>"
     ]
    },
    {
     "cell_type": "markdown",
     "metadata": {},
     "source": [
      "<p><span class=\"math-tex\" data-type=\"tex\">\\begin{eqnarray} \\textbf{B}=\\begin{bmatrix} 5 & 6 \\\\ 7 & 8 \\end{bmatrix} \\end{eqnarray}</span></p>"
     ]
    },
    {
     "cell_type": "markdown",
     "metadata": {},
     "source": [
      "<p>In Python, we can \u201creshape\u201d an array into a matrix:</p>"
     ]
    },
    {
     "cell_type": "code",
     "collapsed": false,
     "input": [
      "A = np.array([1, 2, 3, 4]).reshape(2, 2)\n",
      "B = np.array([5, 6, 7, 8]).reshape(2, 2)\n",
      "\n",
      "print A\n",
      "print B"
     ],
     "language": "python",
     "metadata": {},
     "outputs": []
    },
    {
     "cell_type": "markdown",
     "metadata": {},
     "source": [
      "And then perform matrix addition:"
     ]
    },
    {
     "cell_type": "code",
     "collapsed": false,
     "input": [
      "np.add(A, B)"
     ],
     "language": "python",
     "metadata": {},
     "outputs": []
    },
    {
     "cell_type": "markdown",
     "metadata": {},
     "source": [
      "<p><span class=\"math-tex\" data-type=\"tex\">\\begin{eqnarray} \\textbf{A}=\\begin{bmatrix} { A }_{ 11 } & { A }_{ 12 } \\\\ { A }_{ 21 } & { A }_{ 22 } \\end{bmatrix} \\end{eqnarray}</span></p>"
     ]
    },
    {
     "cell_type": "markdown",
     "metadata": {},
     "source": [
      "<p>That\u2019s another way of stating:</p>"
     ]
    },
    {
     "cell_type": "markdown",
     "metadata": {},
     "source": [
      "<p>\u00a0<span class=\"math-tex\" data-type=\"tex\">A_{11} = 1, A_{12} = 2, A_{21} = 3, A_{22} = 4</span></p>"
     ]
    },
    {
     "cell_type": "markdown",
     "metadata": {},
     "source": [
      "<p>\u2026 just in a much more compact form. We can multiply matrix\u00a0<strong>A</strong> and vector\u00a0<strong>x</strong>, stated as\u00a0<strong>Ax</strong>, based on using a sequence of dot products for each of the elements in the resulting matrix:</p>"
     ]
    },
    {
     "cell_type": "markdown",
     "metadata": {},
     "source": [
      "<p><span class=\"math-tex\" data-type=\"tex\">\\begin{eqnarray} \\textbf{A}=\\begin{bmatrix} { A }_{ 11 } & { A }_{ 12 } \\\\ { A }_{ 21 } & { A }_{ 22 } \\end{bmatrix} \\end{eqnarray}</span></p>"
     ]
    },
    {
     "cell_type": "markdown",
     "metadata": {},
     "source": [
      "<p>Using our example:</p>"
     ]
    },
    {
     "cell_type": "markdown",
     "metadata": {},
     "source": [
      "<p><span class=\"math-tex\" data-type=\"tex\">\\begin{eqnarray} { Ax } & = & \\begin{bmatrix} \\begin{pmatrix} A_{ 11 },A_{ 12 } \\end{pmatrix}\\cdot \\begin{pmatrix} x_{ 1 },x_{ 2 } \\end{pmatrix}, \\begin{pmatrix} A_{ 21 },A_{ 22 } \\end{pmatrix}\\cdot \\begin{pmatrix} x_{ 1 },x_{ 2 } \\end{pmatrix} \\end{bmatrix} \\\\  & = &\\begin{bmatrix} \\begin{pmatrix} A_{ 11 }\\cdot x_{ 1 }+A_{ 12 }\\cdot x_{ 2 } \\end{pmatrix}, \\begin{pmatrix} A_{ 21 }\\cdot x_{ 1 }+A_{ 22 }\\cdot x_{ 2 } \\end{pmatrix} \\end{bmatrix} \\end{eqnarray}</span></p>"
     ]
    },
    {
     "cell_type": "markdown",
     "metadata": {},
     "source": [
      "<p>Using the NumPy package in Python:</p>"
     ]
    },
    {
     "cell_type": "code",
     "collapsed": false,
     "input": [
      "A = np.array([1, 2, 3, 4]).reshape(2, 2)\n",
      "x = [2, 3]\n",
      "\n",
      "np.dot(A, x)"
     ],
     "language": "python",
     "metadata": {},
     "outputs": []
    },
    {
     "cell_type": "markdown",
     "metadata": {},
     "source": [
      "<p>Extending this, we can multiply matrix\u00a0<strong>A</strong> and matrix\u00a0<strong>B</strong>. To perform that operation in Python:</p>"
     ]
    },
    {
     "cell_type": "code",
     "collapsed": false,
     "input": [
      "B = np.array([5, 6, 7, 8]).reshape(2, 2)\n",
      "\n",
      "np.dot(A, B)"
     ],
     "language": "python",
     "metadata": {},
     "outputs": []
    },
    {
     "cell_type": "markdown",
     "metadata": {},
     "source": [
      "<p>Recall the definition of a\u00a0<em>monoid</em>\u00a0as a\u00a0<em>semigroup</em>\u00a0with a unique identity element. We define an\u00a0<em>identity matrix</em>\u00a0<strong>I</strong>, which has the value\u00a0<code>1</code>\u00a0in the diagonal and\u00a0<code>0</code>\u00a0for all other elements:</p>"
     ]
    },
    {
     "cell_type": "markdown",
     "metadata": {},
     "source": [
      "<p><span class=\"math-tex\" data-type=\"tex\">\\begin{eqnarray} \\textbf{I}=\\begin{bmatrix} 1 & 0 \\\\ 0 & 1 \\end{bmatrix} \\end{eqnarray}</span></p>"
     ]
    },
    {
     "cell_type": "markdown",
     "metadata": {},
     "source": [
      "<p>We can use this for matrix multiplication, such that\u00a0<strong>AI</strong> = <strong>A</strong> :</p>"
     ]
    },
    {
     "cell_type": "code",
     "collapsed": false,
     "input": [
      "I = np.array([1, 0, 0, 1]).reshape(2, 2)\n",
      "\n",
      "np.dot(A, I)"
     ],
     "language": "python",
     "metadata": {},
     "outputs": []
    },
    {
     "cell_type": "markdown",
     "metadata": {},
     "source": [
      "<p>One more definition before moving back into reality\u2026 We denote the\u00a0<em>determinant</em>\u00a0of a matrix\u00a0<strong>A</strong> as\u00a0det(<strong>A</strong>), which gets used in many different ways. Referencing the elements in matrix\u00a0<strong>A</strong>, the value of det(<strong>A</strong>) is defined as:</p>"
     ]
    },
    {
     "cell_type": "markdown",
     "metadata": {},
     "source": [
      "<p>\u00a0<span class=\"math-tex\" data-type=\"tex\">\\begin{eqnarray} det\\left( \\textbf{A} \\right) & = & \\begin{bmatrix} { A }_{ 11 } & { A }_{ 12 } \\\\ { A }_{ 21 } & { A }_{ 22 } \\end{bmatrix} \\\\ & = & { A }_{ 11 }\\cdot { A }_{ 22 }-{ A }_{ 12 }\\cdot { A }_{ 21 } \\end{eqnarray}</span></p>"
     ]
    },
    {
     "cell_type": "markdown",
     "metadata": {},
     "source": [
      "<p>Using the values defined earlier we can calculate this in Python:</p>"
     ]
    },
    {
     "cell_type": "code",
     "collapsed": false,
     "input": [
      "np.linalg.det(A)"
     ],
     "language": "python",
     "metadata": {},
     "outputs": []
    },
    {
     "cell_type": "markdown",
     "metadata": {},
     "source": [
      "To put determinants to good use, let\u2019s take a look at a common problem in algebra \u2013 solving for two equations and two unknowns:"
     ]
    },
    {
     "cell_type": "markdown",
     "metadata": {},
     "source": [
      "\\begin{align*} 3x_1 + 9x_2 &= 5 \\\\ 4x_1 + 8x_2 &= 12 \\end{align*}"
     ]
    },
    {
     "cell_type": "markdown",
     "metadata": {},
     "source": [
      "<p><span style=\"line-height: 1.5em;\">Substituting for x</span><span style=\"position: relative; font-size: 13px; line-height: 0; vertical-align: baseline; bottom: -0.25em;\">1</span><span style=\"line-height: 1.5em;\">, we can rearrange one of these equations to simplify the problem:</span></p>"
     ]
    },
    {
     "cell_type": "markdown",
     "metadata": {},
     "source": [
      "\\begin{align*} 4x_1 + 8x_2 &= 12 \\\\ x_1 + 2x_2 &= 3 \\\\ x_1 &= -2x_2 + 3 \\end{align*}"
     ]
    },
    {
     "cell_type": "markdown",
     "metadata": {},
     "source": [
      "Then solve for one of the variables:"
     ]
    },
    {
     "cell_type": "markdown",
     "metadata": {},
     "source": [
      "\\begin{align*} 3x_1 + 9x_2 &= 5 \\\\ 3(-2x_2 + 3) + 9x_2 &= 5 \\\\ -6x_2 + 9 + 9x_2 &= 5 \\\\ (9 - 6)x_2 &= 5 - 9 \\\\ 3x_2 &= -4 \\\\ x_2 &= -{4\\over3} \\end{align*}"
     ]
    },
    {
     "cell_type": "markdown",
     "metadata": {},
     "source": [
      "Now, substituting this known variable to solve for the remaining unknown variable:"
     ]
    },
    {
     "cell_type": "markdown",
     "metadata": {},
     "source": [
      "\\begin{align*} x_2 &= -{4\\over3} \\\\ x_1 &= -2x_2 + 3 \\\\ x_1 &= (-2 \\cdot -{4\\over3}) + 3 \\\\ x_1 &= {8\\over3} + 3 \\\\ x_1 &= 5{2\\over3} \\\\ \\end{align*}"
     ]
    },
    {
     "cell_type": "markdown",
     "metadata": {},
     "source": [
      "<p>Generally speaking, if we have&nbsp;<em>N</em>&nbsp;equations and&nbsp;<em>N</em>&nbsp;variables, we can solve for that&nbsp;<em>system of equations</em>. When we have more or less than&nbsp;<em>N</em>&nbsp;equations, life becomes interesting. In any case, we can use linear algebra to make this a bit simpler. Leveraging one of the <em>>computational thinking</em> patterns, this same problem could have been stated as one equation:</p>"
     ]
    },
    {
     "cell_type": "markdown",
     "metadata": {},
     "source": [
      "\\begin{align*} \\textbf{Ax} &= \\textbf{y} \\end{align*} "
     ]
    },
    {
     "cell_type": "markdown",
     "metadata": {},
     "source": [
      "where:"
     ]
    },
    {
     "cell_type": "markdown",
     "metadata": {},
     "source": [
      "\\begin{align*} \\textbf{A} &= \\begin{vmatrix} 3 & 9 \\\\ 4 & 8 \\end{vmatrix} \\\\ \\textbf{y} &= \\begin{bmatrix} 5 & 12 \\end{bmatrix} \\end{align*} "
     ]
    },
    {
     "cell_type": "markdown",
     "metadata": {},
     "source": [
      "<p>then we just need to solve for one variable, vector <strong>x</strong>, and how about if we simply divide by <strong>A</strong> to get the answer? Instead we must multiply both sides of the equation by its <a href=\"http://mathworld.wolfram.com/MatrixInverse.html\" style=\"line-height: 1.5em;\">matrix inverse</a>. However, finding the matrix inverse can be tricky business. In general, we take the rearranged elements of <strong>A</strong>, for example:</p>"
     ]
    },
    {
     "cell_type": "markdown",
     "metadata": {},
     "source": [
      "\\begin{bmatrix} { A }_{ 22 } & -{ A }_{ 12 } \\\\ { A }_{ 21 } & { A }_{ 11 } \\end{bmatrix}"
     ]
    },
    {
     "cell_type": "markdown",
     "metadata": {},
     "source": [
      "<p>Then divide by the determinant det(<strong>A</strong>), which is a scalar. Using the NumPy package in Python:</p>"
     ]
    },
    {
     "cell_type": "code",
     "collapsed": false,
     "input": [
      "A = np.array([3, 9, 4, 8]).reshape(2, 2)\n",
      "np.linalg.det(A)"
     ],
     "language": "python",
     "metadata": {},
     "outputs": []
    },
    {
     "cell_type": "code",
     "collapsed": false,
     "input": [
      "invA = np.linalg.inv(A)\n",
      "print invA"
     ],
     "language": "python",
     "metadata": {},
     "outputs": []
    },
    {
     "cell_type": "markdown",
     "metadata": {},
     "source": [
      "Finally, to calculate the answer:"
     ]
    },
    {
     "cell_type": "code",
     "collapsed": false,
     "input": [
      "y = [ 5, 12 ]\n",
      "print np.dot(invA, y)"
     ],
     "language": "python",
     "metadata": {},
     "outputs": []
    },
    {
     "cell_type": "markdown",
     "metadata": {},
     "source": [
      "<p>Frankly, this a small example. These kinds of <a data-original-title=\"\" href=\"http://www.numbertheory.org/book/cha1.pdf\" title=\"\">linear systems</a> in practice may grow to be very, very large. Finding a matrix inverse in those cases can be quite costly and can become problematic in other ways &ndash; especially for approximations, which sometimes are the only feasible approach at scale. So we try to find ways of performing the math without calculating an inverse. More about that in a bit.</p>"
     ]
    },
    {
     "cell_type": "markdown",
     "metadata": {},
     "source": [
      "*Installation notes:*\n",
      "\n",
      "  * [NumPy](https://store.continuum.io/cshop/anaconda/)"
     ]
    }
   ],
   "metadata": {}
  }
 ]
}