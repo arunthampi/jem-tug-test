{
 "metadata": {
  "name": ""
 },
 "nbformat": 3,
 "nbformat_minor": 0,
 "worksheets": [
  {
   "cells": [
    {
     "cell_type": "heading",
     "level": 1,
     "metadata": {},
     "source": [
      "Lesson 01: Show Me The Monoid"
     ]
    },
    {
     "cell_type": "heading",
     "level": 2,
     "metadata": {},
     "source": [
      "Categories of Structure"
     ]
    },
    {
     "cell_type": "markdown",
     "metadata": {},
     "source": [
      "<p><span style=\"line-height: 1.5em;\">Instead\u00a0</span><span style=\"line-height: 1.5em;\">of pouring through math papers to learn about abstract algebra, here</span><span style=\"line-height: 1.5em;\">\u2019s a cheat-sheet that we wish we had in school:</span></p>"
     ]
    },
    {
     "cell_type": "markdown",
     "metadata": {},
     "source": [
      "<figure><img style=\"width: 33%\" src=\"files/img/ch02_semigroups.png\"></figure>"
     ]
    },
    {
     "cell_type": "markdown",
     "metadata": {},
     "source": [
      "<p><span style=\"line-height: 1.5em;\">Let's start with a <em>semigroup</em>. Consider the example of\u00a0</span><em style=\"line-height: 1.5em;\">N</em><span style=\"line-height: 1.5em;\">, a set of natural numbers including zero. Then we\u2019ll include the addition operator. Addition is both binary and associative, as we covered in Algebra 2:</span></p>"
     ]
    },
    {
     "cell_type": "markdown",
     "metadata": {},
     "source": [
      "<p><span class=\"math-tex\" data-type=\"tex\">(2 + 3) + 4 = 2 + (3 + 4) = 9</span></p>"
     ]
    },
    {
     "cell_type": "markdown",
     "metadata": {},
     "source": [
      "<p><span style=\"line-height: 1.5em;\">In other words, given a list of integers\u00a0<code>[2, 3, 4]</code>\u00a0if we want to add all of them together we don\u2019t need to worry about where\u00a0the parentheses go. We can add any two elements together (<em>binary</em>) then add the result to the remaining element (<em>associative</em>). The\u00a0results are also numbers within N, which defines the property of\u00a0<em>closure</em>.</span></p>"
     ]
    },
    {
     "cell_type": "markdown",
     "metadata": {},
     "source": [
      "<p><span style=\"line-height: 1.5em;\">Back to the functional programming, we could define a function for adding two numbers, with the property that it returns another number:</span></p>"
     ]
    },
    {
     "cell_type": "code",
     "collapsed": false,
     "input": [
      "def add (x, y):\n",
      "  return x + y\n",
      "\n",
      "print add(add(2, 3), 4)\n",
      "print add(2, add(3, 4))"
     ],
     "language": "python",
     "metadata": {},
     "outputs": []
    },
    {
     "cell_type": "markdown",
     "metadata": {},
     "source": [
      "<p>To see an example associativity, try executing that code cell. Then go back and change some of the integer values and re-run it.</p>"
     ]
    },
    {
     "cell_type": "markdown",
     "metadata": {},
     "source": [
      "<p><span style=\"line-height: 1.5em;\">Those last two lines should both return\u00a0<code>9</code>\u00a0as the result, showing that the location of the parentheses doesn\u2019t matter. As it turns out Python already defines the </span><code style=\"line-height: 1.5em;\">add()</code><span style=\"line-height: 1.5em;\">\u00a0operator.\u00a0</span><span style=\"line-height: 1.5em;\">Of course, if we needed to add together a billion numbers instead of just a few, this all becomes much more interesting. Hold that thought, we\u2019ll come back to it in just a bit.</span></p>"
     ]
    },
    {
     "cell_type": "markdown",
     "metadata": {},
     "source": [
      "<p>For the next category, let\u2019s consider a\u00a0<em>monoid</em>. Starting with a semigroup, if we include another definition for an\u00a0<em>identity element</em>, then we get get a monoid. Again using the set N of natural numbers, zero<span style=\"line-height: 1.5em;\">\u00a0works well as an identity element for addition. Take any number, add zero, and you get the number back as the result. For example:</span></p>"
     ]
    },
    {
     "cell_type": "markdown",
     "metadata": {},
     "source": [
      "<p><span style=\"line-height: 1.5em;\"><span class=\"math-tex\" data-type=\"tex\">2 + 0 = 2</span></span></p>"
     ]
    },
    {
     "cell_type": "markdown",
     "metadata": {},
     "source": [
      "<p>Frankly, using integers for the examples here is less than ideal. Integers have a bunch of other properties that we would rather conflate here \u2013 but these simple examples work fine for now. The bottom line is simple: suppose you have a billion numbers to add, and you know in advance that 500 million of those numbers are zero? If your<code>add()</code>\u00a0function is defined as a monoid, then the program can bypass half of the entire input data set. That may seem trivial, given that we\u2019re talking about integers, but it becomes much more interesting when we consider sets of more complex objects.</p>\n",
      "\n"
     ]
    },
    {
     "cell_type": "heading",
     "level": 2,
     "metadata": {},
     "source": [
      "Monoids in Python"
     ]
    },
    {
     "cell_type": "markdown",
     "metadata": {},
     "source": [
      "\n",
      "\n",
      "\n",
      "<p>In o<span style=\"line-height: 1.5em;\">ur business case study,\u00a0</span><em style=\"line-height: 1.5em;\">Foobartendr.io</em><span style=\"line-height: 1.5em;\">\u00a0has a real-time app that streams through web logs, looking for patterns of text where customers have been impressed, dissatisfied, etc.</span></p>"
     ]
    },
    {
     "cell_type": "markdown",
     "metadata": {},
     "source": [
      "**Problem:** Write monoids in Python that add lists and dictionaries, to avoid potential bottlenecks in the stream processing."
     ]
    },
    {
     "cell_type": "markdown",
     "metadata": {},
     "source": [
      "<p>To get started on this, first check out an excellent discussion about writing monoids in Python:\u00a0<a class=\"link \" href=\"http://fmota.eu/blog/monoids-in-python.html\">Monoids in Python</a>\u00a0by Francisco Mota. The definitions used there for \u00a0<em>associativity</em>,\u00a0<em>closure</em>, and\u00a0<em>identity element</em>\u00a0should be second nature by now.\u00a0<span style=\"line-height: 1.5em;\">Mota defines a monoid in Python similar to\u00a0Algebird, etc., minus Scala\u2019s\u00a0</span><a href=\"http://typesafe.com/platform/tools/scala\" style=\"line-height: 1.5em;\">type safety</a><span style=\"line-height: 1.5em;\">:</span></p>"
     ]
    },
    {
     "cell_type": "code",
     "collapsed": false,
     "input": [
      "# http://fmota.eu/blog/monoids-in-python.html\n",
      "class Monoid (object):\n",
      "  def __init__ (self, null, lift, op):\n",
      "    self.null = null\n",
      "    self.lift = lift\n",
      "    self.op = op\n",
      "\n",
      "  def fold (self, xs):\n",
      "    if hasattr(xs, \"__fold__\"):\n",
      "      return xs.__fold__(self)\n",
      "    else:\n",
      "      return reduce(self.op, (self.lift(x) for x in xs), self.null)\n",
      "\n",
      "  def __call__ (self, *args):\n",
      "    return self.fold(args)\n",
      "\n",
      "  def star (self):\n",
      "    return Monoid(self.null, self.fold, self.op)"
     ],
     "language": "python",
     "metadata": {},
     "outputs": []
    },
    {
     "cell_type": "markdown",
     "metadata": {},
     "source": [
      "<p>Those class methods deserve a bit more explanation. The usage for each is:</p>"
     ]
    },
    {
     "cell_type": "markdown",
     "metadata": {},
     "source": [
      "<table border=\"1\" cellpadding=\"1\" cellspacing=\"1\" style=\"width: 500px;\">\n",
      "<thead><tr>\n",
      "<th scope=\"col\">function</th>\n",
      "\t\t\t<th scope=\"col\">effect</th>\n",
      "\t\t</tr></thead>\n",
      "<tbody>\n",
      "<tr>\n",
      "<td><em>lift()</em></td>\n",
      "\t\t\t<td>like a\u00a0<em>map</em>\u00a0in MapReduce</td>\n",
      "\t\t</tr>\n",
      "<tr>\n",
      "<td><em>op()</em></td>\n",
      "\t\t\t<td>like a\u00a0<em>reduce</em>\u00a0in MapReduce</td>\n",
      "\t\t</tr>\n",
      "<tr>\n",
      "<td><em>fold()</em></td>\n",
      "\t\t\t<td>applies the monoid to a list of values</td>\n",
      "\t\t</tr>\n",
      "<tr>\n",
      "<td><em>star()</em></td>\n",
      "\t\t\t<td>applies the monoid to a list\u00a0<span style=\"font-size: 0.9em; line-height: 1.5em;\">of lists of values</span>\n",
      "</td>\n",
      "\t\t</tr>\n",
      "</tbody>\n",
      "</table>\n"
     ]
    },
    {
     "cell_type": "markdown",
     "metadata": {},
     "source": [
      "<p>Mota\u2019s example code goes on to define\u00a0several common data operations as instances of monoids:</p>"
     ]
    },
    {
     "cell_type": "code",
     "collapsed": false,
     "input": [
      "summ = Monoid(0, lambda x: x, lambda a,b: a+b)\n",
      "joinm = Monoid('', lambda x: str(x), lambda a,b: a+b)\n",
      "listm = Monoid([], lambda x: [x], lambda a,b: a+b)\n",
      "tuplem = Monoid((), lambda x: (x,), lambda a,b: a+b)\n",
      "lenm = Monoid(0, lambda x: 1, lambda a,b: a+b)\n",
      "prodm = Monoid(1, lambda x: x, lambda a,b: a*b)"
     ],
     "language": "python",
     "metadata": {},
     "outputs": []
    },
    {
     "cell_type": "markdown",
     "metadata": {},
     "source": [
      "<p><span style=\"line-height: 1.5em;\">To put that into use, let\u2019s apply\u00a0</span><code style=\"line-height: 1.5em;\">summ</code><span style=\"line-height: 1.5em;\">\u00a0to a list:</span></p>\n",
      "\n",
      "\n"
     ]
    },
    {
     "cell_type": "code",
     "collapsed": false,
     "input": [
      "summ.star().fold([[10, 20, 30], [40, 50]])"
     ],
     "language": "python",
     "metadata": {},
     "outputs": []
    },
    {
     "cell_type": "markdown",
     "metadata": {},
     "source": [
      "<p>That added some numbers together, got it. In another example, let\u2019s<span style=\"line-height: 1.5em;\">\u00a0fold a list of lists of integers:</span></p>"
     ]
    },
    {
     "cell_type": "code",
     "collapsed": false,
     "input": [
      "listm.star().fold([[1, 2, 3], [4, 5, 6]])"
     ],
     "language": "python",
     "metadata": {},
     "outputs": []
    },
    {
     "cell_type": "markdown",
     "metadata": {},
     "source": [
      "<p>With partitioned data the results are generally a list of lists that need to be combined.\u00a0<span style=\"line-height: 1.5em;\">Next let\u2019s try with a more complex data structure: dictionaries. T</span>o define a monoid that folds Python dictionaries, first we\u2019ll define\u00a0<code>dict_op()</code>\u00a0as a helper method:</p>"
     ]
    },
    {
     "cell_type": "code",
     "collapsed": false,
     "input": [
      "def dict_op (a, b):\n",
      "  for key, val in b.items():\n",
      "    if not key in a:\n",
      "      a[key] = val\n",
      "    else:\n",
      "      a[key] += val\n",
      "\n",
      "  return a\n",
      "\n",
      "dictm = Monoid({}, lambda x: x,lambda a,b: dict_op(a, b))"
     ],
     "language": "python",
     "metadata": {},
     "outputs": []
    },
    {
     "cell_type": "markdown",
     "metadata": {},
     "source": [
      "<p>Notice that\u00a0<code>dictm</code>\u00a0uses an empty dictionary\u00a0<code>{}</code>\u00a0for the identity element. Check! It uses\u00a0<code>lambda x: x</code>\u00a0for the lift method \u2013 no type conversion required there, closure is simple in this case. Check! Then it uses\u00a0<code>dict_op(a, b)</code>\u00a0as a helper method to perform the associative binary operation, adding elements into the dictionary. Check!\u00a0Now to test that, let\u2019s define a couple of dictionaries and then fold them together:</p>"
     ]
    },
    {
     "cell_type": "code",
     "collapsed": false,
     "input": [
      "x1 = { \"a\": 2, \"b\": 3 }\n",
      "x2 = { \"b\": 2, \"c\": 7 }\n",
      "\n",
      "dictm.fold([x1, x2])"
     ],
     "language": "python",
     "metadata": {},
     "outputs": []
    },
    {
     "cell_type": "markdown",
     "metadata": {},
     "source": [
      "Now let\u2019s try a programming exercise... We're given a log file that has counts of errors. The following Python code will print out a list of the values in the log file:"
     ]
    },
    {
     "cell_type": "code",
     "collapsed": false,
     "input": [
      "import json\n",
      "\n",
      "d_list = []\n",
      "\n",
      "with open(\"data/log_aggr.json\", \"r\") as f:\n",
      "  for line in f:\n",
      "    d = json.loads(line.strip())\n",
      "    d_list.append(d)\n",
      "    print d_list"
     ],
     "language": "python",
     "metadata": {},
     "outputs": []
    },
    {
     "cell_type": "markdown",
     "metadata": {},
     "source": [
      "**Problem:** Modify that code to sum all of the numbers together. What is the total count of errors from the log file?\n"
     ]
    }
   ],
   "metadata": {}
  }
 ]
}