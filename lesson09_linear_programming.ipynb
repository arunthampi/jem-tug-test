{
 "metadata": {
  "name": ""
 },
 "nbformat": 3,
 "nbformat_minor": 0,
 "worksheets": [
  {
   "cells": [
    {
     "cell_type": "heading",
     "level": 1,
     "metadata": {},
     "source": [
      "Lesson 09: Linear Programming"
     ]
    },
    {
     "cell_type": "markdown",
     "metadata": {},
     "source": [
      "[Linear programming](https://www.cs.duke.edu/courses/spring07/cps296.2/papers/LinearProgramming_article.pdf) \u2013 as an approach for solving a system of linear inequalities \u2013 dates back to the 18th century. However, it came to the fore as an important discipline during World War II. Logistics was the endeavor that won or lost battles waged far from the heartland. Mathematical optimization techniques made it possible for countries to adjust their logistics \u2013 and estimate those of their enemies \u2013 during crucial times."
     ]
    },
    {
     "cell_type": "markdown",
     "metadata": {},
     "source": [
      "Suppose we have an *objective function* stated as the product of two vectors *z*(**x**) = **cx**, along with a *feasible region* **Ax** = **b** where:"
     ]
    },
    {
     "cell_type": "markdown",
     "metadata": {},
     "source": [
      "\\begin{align*} { x }_{ i } \u2265 0 \\end{align*}"
     ]
    },
    {
     "cell_type": "markdown",
     "metadata": {},
     "source": [
      "The objective function is what we need to optimize \u2013 minimize or maximize. The feasible region defines our constraints. That sounds simple(x) enough."
     ]
    },
    {
     "cell_type": "markdown",
     "metadata": {},
     "source": [
      "Recall our business venture from previous chapters: an automated cocktail delivery service, ordered by tablet and delivered by drone. Based on extensive analysis of large-scale data, we have found that three categories of potations represent nearly all of our company net revenue:\n",
      "\n",
      " * [Pre-Prohibition](http://www.amazon.com/dp/0965433323)\n",
      " * [Liquid Nitrogen](http://en.wikipedia.org/wiki/Liquid_nitrogen_cocktail)\n",
      " * [Freshly Muddled](http://www.ahamodernliving.com/blog/garden/garden-cocktails/)"
     ]
    },
    {
     "cell_type": "markdown",
     "metadata": {},
     "source": [
      "Our sales have booked a 5:3:2 ratio for net revenues from these three categories, and our investors mentioned that we need to optimize revenue\n",
      "this next quarter. Or something bad might happen. So let\u2019s define an objective function *z*(**x**) based on constraints for producing those three categories of cocktail drinks:"
     ]
    },
    {
     "cell_type": "markdown",
     "metadata": {},
     "source": [
      "\\begin{eqnarray} z(\\textbf{x}) & = & 5{ x }_{ 0 }+3{ x }_{ 1 }+2{ x }_{2 } \\end{eqnarray}"
     ]
    },
    {
     "cell_type": "markdown",
     "metadata": {},
     "source": [
      "This revenue optimization is subject to a set of constraints, namely our costs:\n",
      "\n",
      "  *   ingredients\n",
      "  *   bartender salaries\n",
      "  *   drone delivery"
     ]
    },
    {
     "cell_type": "markdown",
     "metadata": {},
     "source": [
      "As it turns out, all of the ingredients last quarter cost us \\$100K, and were distributed among the three cocktail categories in a 1:1:3 ratio. Our bartenders work fast \u2013 largely due to our in-house massage therapy, free gourmet meals, and complementary fixie bike repair service \u2013 all lumped into their loaded salaries. However, they still take their own sweet time when it comes to mixing perfect drinks. Salaries for bartenders totaled \\$600K last quarter, and the overall time per cocktail category clocked in at a 10:4:5 ratio. Bar charts don\u2019t lie. Meanwhile, drone-based delivery is still somewhat of an art form. We lost our shirts, shelling out a whopping \\$150K last quarter just for deliveries. Turns out that muddled drinks tend to be not only trendy but much heavier, so our airborne delivery costs for the different categories were in a 1:1:3 ratio. Oddly enough, we were fortunate to barter for our remaining expenses, such as accounting, datacenter, marketing, etc. Most of those services were being run by um, \u201csocial\u201d drinkers."
     ]
    },
    {
     "cell_type": "markdown",
     "metadata": {},
     "source": [
      "We can represent these cost constraints by a system of linear inequalities:"
     ]
    },
    {
     "cell_type": "markdown",
     "metadata": {},
     "source": [
      "\\begin{eqnarray} { x }_{ 0 }+{ x }_{ 1 }+{ 3x }_{ 2 } & \\le & 100 \\\\ 10{ x }_{ 0 }+4{ x }_{1 }+{ 5x }_{ 2 } & \\le & 600 \\\\ { x }_{ 0 }+{ x }_{ 1 }+{ 3x }_{ 2 } & \\le & 150 \\end{eqnarray}"
     ]
    },
    {
     "cell_type": "markdown",
     "metadata": {},
     "source": [
      "Plus, there are the additional constraints such that all variables are non-negative. In other words, we\u2019re not going to give people money to\n",
      "take our drinks \u2013 at least, not if we can get seed-round financing:"
     ]
    },
    {
     "cell_type": "markdown",
     "metadata": {},
     "source": [
      "\\begin{align*} { x }_{ i } \u2265 0 \\end{align*}"
     ]
    },
    {
     "cell_type": "markdown",
     "metadata": {},
     "source": [
      "NB: those constraints are not equations. We turn them into equations by introducing [slack variables](http://en.wikipedia.org/wiki/Slack_variable). The theory behind this is probably overkill for the moment, but the point is that introducing these variables makes the system *underdetermined*. That\u2019s a good thing, for optimization."
     ]
    },
    {
     "cell_type": "markdown",
     "metadata": {},
     "source": [
      "All the components for a linear programming model can be stated as:"
     ]
    },
    {
     "cell_type": "markdown",
     "metadata": {},
     "source": [
      "\\begin{align*} \\textbf{ c }=\\left[ \\begin{matrix} 5 \\\\ 3 \\\\ 2 \\end{matrix} \\right] \\space , \\textbf{ A }=\\begin{bmatrix} 1 & 1 & 3 \\\\ 10 & 4 & 5 \\\\ 1 & 1 & 3 \\end{bmatrix} \\space , \\textbf{ b }=\\begin{bmatrix} 100 \\\\ 600 \\\\ 150 \\end{bmatrix} \\end{align*}"
     ]
    },
    {
     "cell_type": "markdown",
     "metadata": {},
     "source": [
      "We can run this linear programming example in Python using the [Python-GLPK](http://en.wikibooks.org/wiki/GLPK/Python#Python-GLPK) package. That\u2019s a Python wrapper for the [GLPK](http://www.gnu.org/software/glpk/) solver, which is based on a subset of the [AMPL](http://www.ampl.com/BOOK/index.html) mathematical programming language. Let\u2019s create a script to model our cocktail net revenues:"
     ]
    },
    {
     "cell_type": "code",
     "collapsed": false,
     "input": [
      "%%bash\n",
      "cat <<EOF > data/lp.mod\n",
      "\n",
      "var x0 >= 0;\n",
      "var x1 >= 0;\n",
      "var x2 >= 0;\n",
      "\n",
      "maximize\n",
      "z: 5.0 * x0 + 3.0 * x1 + 2.0 * x2;\n",
      "\n",
      "subject to\n",
      "\n",
      "ingrednt:  1.0 * x0 + 1.0 * x1 + 3.0 * x2 <= 100;\n",
      "bartendr: 10.0 * x0 + 4.0 * x1 + 5.0 * x2 <= 600;\n",
      "delivery:  1.0 * x0 + 1.0 * x1 + 4.0 * x2 <= 150;\n",
      "\n",
      "end;\n",
      "EOF"
     ],
     "language": "python",
     "metadata": {},
     "outputs": []
    },
    {
     "cell_type": "markdown",
     "metadata": {},
     "source": [
      "Running this script, we solve for the values in **x** that maximize the objective function *z*(**x**) \u2026"
     ]
    },
    {
     "cell_type": "code",
     "collapsed": false,
     "input": [
      "import glpk\n",
      "\n",
      "example = glpk.glpk(\"data/lp.mod\")\n",
      "example.update()\n",
      "example.solve()\n",
      "\n",
      "solution = example.solution()\n",
      "\n",
      "# report the objective function value and structural variables\n",
      "print \"solution:\", solution"
     ],
     "language": "python",
     "metadata": {},
     "outputs": []
    },
    {
     "cell_type": "markdown",
     "metadata": {},
     "source": [
      "Based on the results, to maximize quarterly revenues and keep the investors off our backs we need to ditch the Freshly Muddled drinks. Let's take a closer look at what the model results predict for next quarter:"
     ]
    },
    {
     "cell_type": "code",
     "collapsed": false,
     "input": [
      "import numpy as np\n",
      "\n",
      "A = np.array([1., 1., 3., 10., 4., 5., 1., 1., 3.]).reshape(3, 3)\n",
      "c = np.array([5., 3., 2.])\n",
      "x = np.array([solution[\"x0\"], solution[\"x1\"], solution[\"x2\"]])\n",
      "\n",
      "cost = sum(np.dot(A, x))\n",
      "net_rev = np.dot(c, x)\n",
      "op_margin = net_rev / (net_rev + cost)\n",
      "\n",
      "print \"costs %0.2f, net revenue %0.2f, operating margin %0.0f%%\" % (cost, net_rev, op_margin * 100.0)"
     ],
     "language": "python",
     "metadata": {},
     "outputs": []
    },
    {
     "cell_type": "markdown",
     "metadata": {},
     "source": [
      "We had a summer intern check into this, and it turns out that those are Freshly Muddled drinks are like hella expensive to deliver via drone. Now we just need to set our sales targets at 1/3 Pre-Prohibition and 2/3 Liquid Nitrogen. Done and done. "
     ]
    },
    {
     "cell_type": "markdown",
     "metadata": {},
     "source": [
      "Of course, since this is Silicon Valley, given those projections we are compelled to \u201cembellish\u201d to keep up with the rest of the tenants in our building. We'll probably forecast a 62% operating margin, while backdating our stock options. Or something. Buy low, sell high."
     ]
    },
    {
     "cell_type": "markdown",
     "metadata": {},
     "source": [
      "*Installation notes:*\n",
      "\n",
      "  * [GLPK](http://en.wikibooks.org/wiki/GLPK)\n",
      "  * [Python-GLPK](http://en.wikibooks.org/wiki/GLPK/Python#Python-GLPK)\n",
      "  * [NumPy](https://store.continuum.io/cshop/anaconda/)"
     ]
    }
   ],
   "metadata": {}
  }
 ]
}