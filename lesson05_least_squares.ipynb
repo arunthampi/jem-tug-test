{
 "metadata": {
  "name": ""
 },
 "nbformat": 3,
 "nbformat_minor": 0,
 "worksheets": [
  {
   "cells": [
    {
     "cell_type": "heading",
     "level": 1,
     "metadata": {},
     "source": [
      "Lesson 05: Least Squares Approximation"
     ]
    },
    {
     "cell_type": "markdown",
     "metadata": {},
     "source": [
      "Recall that when we have more or less than\u00a0\\\\(N\\\\) equations\n",
      "with\u00a0\\\\(N\\\\) variables, life becomes interesting. We will consider both\n",
      "cases in this chapter, but let\u2019s start with the\u00a0*more*\u00a0case.\n",
      "\n",
      "Imagine that we have many points\u00a0`(x, y)`\u00a0on a 2-D grid. We could use\n",
      "linear algebra to describe a line that runs through those points. The\n",
      "general formula of a line is `y = mx + b`, with some scalar\n",
      "values\u00a0`m`\u00a0and\u00a0`b`\u00a0as the slope and intercept of the line, respectively.\n",
      "If all the points are aligned, it should be no problem solving for those\n",
      "values, and we\u2019ll get an exact solution.\n",
      "\n",
      "However, if all the points are not aligned \u2013 and worse yet if there are\n",
      "too many of them, i.e., more equations than variables \u2013 there won\u2019t be\n",
      "an exact solution, but we can approximate. In the case of a 2-D grid,\n",
      "any more than two points can cause this condition. The solution\n",
      "involves\u00a0*curve fitting*, and\u00a0*least squares approximation*\u00a0was\n",
      "introduced for by\u00a0[Gauss](http://jeff560.tripod.com/m.html)\u00a0in the early\n",
      "19th century. Check out the discussion about\u00a0[least squares\n",
      "approximation](http://math.mit.edu/linearalgebra/ila0403.pdf)\u00a0by Gilbert\n",
      "Strang, in the book\u00a0*Introduction to Linear Algebra*."
     ]
    },
    {
     "cell_type": "markdown",
     "metadata": {},
     "source": [
      "**Problem:** Fit a straight line through the following (x, y) points to forecast bartendr ratings for the next month:"
     ]
    },
    {
     "cell_type": "markdown",
     "metadata": {},
     "source": [
      "(0, -1), (1, 0.2), (2, 0.9), (3, 2.1)"
     ]
    },
    {
     "cell_type": "markdown",
     "metadata": {},
     "source": [
      "We define the vector \\\\(\\\\textbf{x}\\\\) to solve for the line parameters, then construct a matrix\u00a0\\\\(\\\\textbf{A}\\\\) with all the points\u2019\u00a0`x`\u00a0values in the first column, and\u00a0`1`\u00a0in the second column:"
     ]
    },
    {
     "cell_type": "markdown",
     "metadata": {},
     "source": [
      "\\begin{align*} \\textbf{x} &= \\begin{bmatrix}m \\\\ b\\end{bmatrix} \\end{align*}"
     ]
    },
    {
     "cell_type": "markdown",
     "metadata": {},
     "source": [
      "\\begin{align*} \\textbf{A} &= \\begin{bmatrix} 0 & 1 \\\\ 1 & 1 \\\\ 2 & 1 \\\\ 3 & 1 \\\\ \\end{bmatrix} \\end{align*}"
     ]
    },
    {
     "cell_type": "markdown",
     "metadata": {},
     "source": [
      "Then define the vector \\\\(\\\\textbf{y}\\\\) and solve for the equation\u00a0\\\\(\\\\textbf{Ax = y}\\\\)"
     ]
    },
    {
     "cell_type": "markdown",
     "metadata": {},
     "source": [
      "\\begin{align*} \\textbf{y} = \\begin{bmatrix} -1 \\\\ .2 \\\\ .9 \\\\ 2.1 \\end{bmatrix}\\ \\end{align*} "
     ]
    },
    {
     "cell_type": "markdown",
     "metadata": {},
     "source": [
      "Since matrix\u00a0\\\\(\\\\textbf{A}\\\\) is not square, we cannot obtain a matrix inverse. Instead we use a\u00a0[transpose](http://mathworld.wolfram.com/Transpose.html)\u00a0of matrix\u00a0\\\\(\\\\textbf{A}\\\\) where the elements get reflected along the diagonal:"
     ]
    },
    {
     "cell_type": "markdown",
     "metadata": {},
     "source": [
      "\\begin{align*} \\textbf{A}^\\textbf{T} = \\begin{bmatrix} { A }_{ 11 } & { A }_{ 21 } \\\\ { A }_{ 12 } & { A }_{ 22 } \\end{bmatrix} \\end{align*}"
     ]
    },
    {
     "cell_type": "markdown",
     "metadata": {},
     "source": [
      "Multiply both sides of\u00a0\\\\(\\\\textbf{Ax = y}\\\\)\u00a0by\u00a0that transpose, then approximate the vector\u00a0\\\\(\\\\textbf{x}\\\\)\u00a0in the resulting\u00a0equation:"
     ]
    },
    {
     "cell_type": "markdown",
     "metadata": {},
     "source": [
      "\\begin{align*} \\textbf{A}^\\textbf{T}\\textbf{Ax} = \\textbf{A}^\\textbf{T}\\textbf{y} \\end{align*} "
     ]
    },
    {
     "cell_type": "markdown",
     "metadata": {},
     "source": [
      "Now we split the vector\u00a0\\\\(\\\\textbf{y}\\\\) into two parts: a projection\u00a0\\\\(\\\\textbf{p}\\\\) as the solution, and a vector of errors\u00a0\\\\(\\\\textbf{e}\\\\), and then we minimize\u00a0\\\\(\\\\textbf{e}\\\\) as best as possible by minimizing the squares of its values, ergo the \u201cleast squares\u201d name."
     ]
    },
    {
     "cell_type": "markdown",
     "metadata": {},
     "source": [
      "\\begin{align*} \\textbf{p} = \\begin{bmatrix} m \\\\ b \\end{bmatrix} \\end{align*} "
     ]
    },
    {
     "cell_type": "markdown",
     "metadata": {},
     "source": [
      "Using the\u00a0[linalg.lstsq](http://docs.scipy.org/doc/numpy/reference/generated/numpy.linalg.lstsq.html)\u00a0method in NumPy:"
     ]
    },
    {
     "cell_type": "code",
     "collapsed": false,
     "input": [
      "import numpy as np\n",
      "\n",
      "x = np.array([0, 1, 2, 3])\n",
      "y = np.array([-1, 0.2, 0.9, 2.1])\n",
      "A = np.vstack([x, np.ones(len(x))]).T\n",
      "\n",
      "(m, b), e, rank, singular = np.linalg.lstsq(A, y)\n",
      "print (m, b), e"
     ],
     "language": "python",
     "metadata": {},
     "outputs": []
    },
    {
     "cell_type": "markdown",
     "metadata": {},
     "source": [
      "Bueno. The fitted line is\u00a0`y = x - 0.95`, the error \\\\(\\\\textbf{e}\\\\) is relatively low at `0.05`,\u00a0and we are off to the races."
     ]
    },
    {
     "cell_type": "code",
     "collapsed": false,
     "input": [
      "import pylab as pl\n",
      "\n",
      "pl.plot(x, y, 'o')\n",
      "pl.plot(x, m*x + b)\n",
      "\n",
      "pl.grid()\n",
      "pl.xlabel('x')\n",
      "pl.ylabel('y')\n",
      "\n",
      "pl.show()"
     ],
     "language": "python",
     "metadata": {},
     "outputs": []
    },
    {
     "cell_type": "markdown",
     "metadata": {},
     "source": [
      "**Problem:** Given this linear model, how would you forecast the bartendr ratings for the next month?"
     ]
    },
    {
     "cell_type": "markdown",
     "metadata": {},
     "source": [
      "*Installation notes:*\n",
      "\n",
      "  * [NumPy, Matplotlib](https://store.continuum.io/cshop/anaconda/)"
     ]
    }
   ],
   "metadata": {}
  }
 ]
}