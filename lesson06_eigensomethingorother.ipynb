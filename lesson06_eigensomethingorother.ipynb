{
 "metadata": {
  "name": ""
 },
 "nbformat": 3,
 "nbformat_minor": 0,
 "worksheets": [
  {
   "cells": [
    {
     "cell_type": "heading",
     "level": 1,
     "metadata": {},
     "source": [
      "Lesson 06: Eigensomethingorother"
     ]
    },
    {
     "cell_type": "markdown",
     "metadata": {},
     "source": [
      "<p>An ominous voice utters: \"Something something <em>linear</em>, something something <em>eigen</em>&hellip;\" As the effects of the red pill begin to ramp up, let&rsquo;s take a good look at the notion of <em>eigenvalues</em> and <em>eigenvectors</em>. Those seem to pop up all over linear algebra.</p>"
     ]
    },
    {
     "cell_type": "markdown",
     "metadata": {},
     "source": [
      "<p>Suppose we have a square matrix <strong>A</strong>, a non-zero vector <strong>x</strong>, and a scalar <em>&lambda;</em>, such that:</p>"
     ]
    },
    {
     "cell_type": "markdown",
     "metadata": {},
     "source": [
      "\\begin{align*} \\textbf{Ax} &= \\lambda\\textbf{x} \\\\ \\textbf{Ax} - \\lambda\\textbf{x} &= 0 \\\\ \\textbf{Ax} - \\lambda\\textbf{Ix} &= 0 \\\\ (\\textbf{A} - \\lambda\\textbf{I})\\textbf{x} &= 0 \\\\ det(\\textbf{A} - \\lambda\\textbf{I}) &= 0 \\\\ \\end{align*} "
     ]
    },
    {
     "cell_type": "markdown",
     "metadata": {},
     "source": [
      "<p>The vector <strong>x</strong> is called an <em>eigenvector</em> and the scalar <em>&lambda;</em> is called an <em>eigenvalue</em>. There may be multiple solutions, and we&rsquo;ll get to that. <a href=\"http://www.numbertheory.org/book/cha6.pdf\">Matthews</a> and <a data-original-title=\"\" href=\"http://math.mit.edu/linearalgebra/ila0601.pdf\" title=\"\">Strang</a> both provide lots of discussion about these matrix properties, albeit arriving in a roundabout way.</p>"
     ]
    },
    {
     "cell_type": "markdown",
     "metadata": {},
     "source": [
      "<p>Let&rsquo;s take a more direct route\u2026 Looking at the second-to-last equation, remember that <strong>x</strong> must be non-zero. So we can solve for the determinant.</p>"
     ]
    },
    {
     "cell_type": "markdown",
     "metadata": {},
     "source": [
      "<p>Given matrix <strong>A</strong>:</p>"
     ]
    },
    {
     "cell_type": "markdown",
     "metadata": {},
     "source": [
      "\\begin{align*} \\textbf{A} = \\begin{bmatrix} 0 & 1 \\\\ -2 & -3 \\\\ \\end{bmatrix} \\end{align*} "
     ]
    },
    {
     "cell_type": "markdown",
     "metadata": {},
     "source": [
      "<p>Then we work toward a linear system for solving for <em>&lambda;</em>:</p>"
     ]
    },
    {
     "cell_type": "markdown",
     "metadata": {},
     "source": [
      "\\begin{align*} \\lambda \\textbf{I}=\\begin{bmatrix} \\lambda & 0 \\\\ 0 & \\lambda \\end{bmatrix},\\space \\textbf{A}-\\lambda \\textbf{I}=\\begin{bmatrix} 0-\\lambda & 1-0 \\\\ -2-0 & -3-\\lambda \\end{bmatrix} \\end{align*} "
     ]
    },
    {
     "cell_type": "markdown",
     "metadata": {},
     "source": [
      "Now, taking the determinant:"
     ]
    },
    {
     "cell_type": "markdown",
     "metadata": {},
     "source": [
      "\\begin{eqnarray} det\\left( \\textbf{A}-\\lambda \\textbf{I} \\right) ={ \u03bb }^{ 2 }+3\u03bb+2 & = & 0 \\end{eqnarray}"
     ]
    },
    {
     "cell_type": "markdown",
     "metadata": {},
     "source": [
      "<p>That equation derived by taking the determinant is called the <a href=\"http://mathworld.wolfram.com/CharacteristicPolynomial.html\">characteristic polynomial</a>. Solving for the roots of that polynomial:</p>"
     ]
    },
    {
     "cell_type": "markdown",
     "metadata": {},
     "source": [
      "\\begin{align*} (\\lambda + 1) \\cdot (\\lambda + 2) = 0 \\\\ \\lambda_1 = -1, \\lambda_2 = -2 \\end{align*} "
     ]
    },
    {
     "cell_type": "markdown",
     "metadata": {},
     "source": [
      "<p>Alternatively, let's show how to use the <a href=\"http://docs.scipy.org/doc/numpy/reference/generated/numpy.linalg.eig.html#numpy.linalg.eig\">linalg.eig</a> method in NumPy:</p>"
     ]
    },
    {
     "cell_type": "code",
     "collapsed": false,
     "input": [
      "import numpy as np\n",
      "\n",
      "A = np.array([0, 1, -2, -3]).reshape(2, 2)\n",
      "\n",
      "(eigenvalues, eigenvectors) = np.linalg.eig(A)\n",
      "\n",
      "print eigenvalues\n",
      "print eigenvectors"
     ],
     "language": "python",
     "metadata": {},
     "outputs": []
    },
    {
     "cell_type": "markdown",
     "metadata": {},
     "source": [
      "That's how to find eigenvalues and eigenvectors using Python. We'll use this again \u2013 much more! As they say, things just got interesting\u2026"
     ]
    },
    {
     "cell_type": "markdown",
     "metadata": {},
     "source": [
      "*Installation notes:*\n",
      "\n",
      "  * [NumPy](https://store.continuum.io/cshop/anaconda/)"
     ]
    }
   ],
   "metadata": {}
  }
 ]
}