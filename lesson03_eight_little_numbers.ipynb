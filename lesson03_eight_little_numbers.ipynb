{
 "metadata": {
  "name": ""
 },
 "nbformat": 3,
 "nbformat_minor": 0,
 "worksheets": [
  {
   "cells": [
    {
     "cell_type": "heading",
     "level": 1,
     "metadata": {},
     "source": [
      "Lesson 03: Eight Little Numbers"
     ]
    },
    {
     "cell_type": "markdown",
     "metadata": {},
     "source": [
      "<p>There is a typical kind of \u201cProbability and Statistics 101\u201d course that so many of us took in college. Those courses tend to be biased toward math from the 19th or early 20th century \u2013 purpose-built for the needs of insurance actuaries and PhD candidates to \u201cprove\u201d highly abstracted points. Stated another way, introductory statistics tends to be tilted toward making arguments that can be defended against adversarial mathematicians. How quaint. Unfortunately that kind of math is not particularly appropriate for other business use cases, especially when the incoming data rates scale and the required response times shrink dramatically.</p>\n",
      "\n",
      "\n"
     ]
    },
    {
     "cell_type": "markdown",
     "metadata": {},
     "source": [
      "<p>In our business case study,\u00a0<em>Foobartendr.io</em>\u00a0is building out its Data team and screening many great candidates for data science roles. One interview question concerns a relatively simple, concise data problem with just eight little numbers. The context is that we tested four different UX designs in a customer experiment for how to arrange the top-selling cocktails on a tablet display.</p>\n",
      "\n",
      "\n"
     ]
    },
    {
     "cell_type": "markdown",
     "metadata": {},
     "source": [
      "<p>Keep in mind that the goal of the experiment was to maximize the purchase rate in the mobile app. Even so, the goal of the interview question is to screen candidates who have facility with statistics in business, versus those who give relatively \u201cstandard\u201d answers \u2013 or entirely wrong answers \u2013 that do not work well in practice.</p>\n",
      "\n",
      "\n"
     ]
    },
    {
     "cell_type": "markdown",
     "metadata": {},
     "source": [
      "**Problem:** Based on how often customers purchased drinks in each design, can you tell which customer experiment has the lowest purchase rate?"
     ]
    },
    {
     "cell_type": "markdown",
     "metadata": {},
     "source": [
      "<p>The following table lists the data from test results in our customer experiment. We measured how frequently customers purchased cocktails, based on each of the four designs:</p>\n",
      "\n",
      "\n"
     ]
    },
    {
     "cell_type": "markdown",
     "metadata": {},
     "source": [
      "<table>\n",
      "<colgroup>\n",
      "<col>\n",
      "<col>\n",
      "<col>\n",
      "</colgroup>\n",
      "<thead><tr>\n",
      "<th>test ID</th>\n",
      "\t\t\t<th>#visits</th>\n",
      "\t\t\t<th>#purchases</th>\n",
      "\t\t</tr></thead>\n",
      "<tbody>\n",
      "<tr>\n",
      "<td>#1</td>\n",
      "\t\t\t<td>24</td>\n",
      "\t\t\t<td>3</td>\n",
      "\t\t</tr>\n",
      "<tr>\n",
      "<td>#2</td>\n",
      "\t\t\t<td>180</td>\n",
      "\t\t\t<td>30</td>\n",
      "\t\t</tr>\n",
      "<tr>\n",
      "<td>#3</td>\n",
      "\t\t\t<td>250</td>\n",
      "\t\t\t<td>50</td>\n",
      "\t\t</tr>\n",
      "<tr>\n",
      "<td>#4</td>\n",
      "\t\t\t<td>100</td>\n",
      "\t\t\t<td>15</td>\n",
      "\t\t</tr>\n",
      "</tbody>\n",
      "</table>\n"
     ]
    },
    {
     "cell_type": "markdown",
     "metadata": {},
     "source": [
      "That's simple to store as a data file... just run the following code cell:"
     ]
    },
    {
     "cell_type": "code",
     "collapsed": false,
     "input": [
      "%%bash\n",
      "cat <<EOF > data/eight.csv\n",
      "1,24,3\n",
      "2,180,30\n",
      "3,250,50\n",
      "4,100,15\n",
      "EOF"
     ],
     "language": "python",
     "metadata": {},
     "outputs": []
    },
    {
     "cell_type": "markdown",
     "metadata": {},
     "source": [
      "<p>Now let\u2019s use that data in\u00a0an\u00a0interview question for Data Scientist candidates \u2013 or for that matter, any of the engineering and management candidates in the company.</p>"
     ]
    },
    {
     "cell_type": "markdown",
     "metadata": {},
     "source": [
      "**Interview Question:**"
     ]
    },
    {
     "cell_type": "markdown",
     "metadata": {},
     "source": [
      "<ol>\n",
      "<li>Can you tell us which UX design has the lowest purchase rate?</li>\n",
      "\t<li>Why did you give that answer?</li>\n",
      "\t<li>How did you calculate it?</li>\n",
      "</ol>"
     ]
    },
    {
     "cell_type": "markdown",
     "metadata": {},
     "source": [
      "<p>This is an open-book test. Follow best practices for data analysis. Make your own choices about how to arrive at a decision with a reasonable degree of accuracy. Feel free to use a calculator, laptop, web browser, supercomputer, phone calls to Nobel laureate in-laws, etc. However, take no more than 5 minutes max.</p>\n",
      "\n"
     ]
    },
    {
     "cell_type": "markdown",
     "metadata": {},
     "source": [
      "<p><span style=\"line-height: 1.5em;\">A na\u00efve approach to the problem would be simply to divide the purchase count by the visit count for each experiment. Many people take that approach:</span></p>"
     ]
    },
    {
     "cell_type": "code",
     "collapsed": false,
     "input": [
      "with open(\"data/eight.csv\") as f:\n",
      "  print \"test\\tvisit\\tpurch\\tsimple ratio\"\n",
      "\n",
      "  for line in f:\n",
      "    (test_id, visits, purchases) = line.strip().split(\",\")\n",
      "    x = float(purchases)\n",
      "    n = float(visits)\n",
      "    p = x / n\n",
      "    print \"#%s\\t%5s\\t%5s\\t%0.4f\" % (test_id, visits, purchases, p,)"
     ],
     "language": "python",
     "metadata": {},
     "outputs": []
    },
    {
     "cell_type": "markdown",
     "metadata": {},
     "source": [
      "<p>On the one hand, test #1 appears to have the lowest purchase rate since that produces\u00a0<code>3/24 = 0.125</code>\u00a0as the calculated ratio. On the other hand, test #1 has the least amount of data collected so it might just be thrown out on that basis.</p>"
     ]
    },
    {
     "cell_type": "markdown",
     "metadata": {},
     "source": [
      "<p><span style=\"line-height: 1.5em;\">A more robust solution would be to consider those eight little numbers as\u00a0</span><a href=\"http://en.wikipedia.org/wiki/Point_estimation\" style=\"line-height: 1.5em;\">point estimates</a><span style=\"line-height: 1.5em;\">. In other words, think of customer experiments as ongoing judgements that must be improved as more and more data arrives. Prior to the 1990s, many use cases for statistics worked with much smaller data rates. When working with large data rates or real-time requirements, you do not have the luxury of waiting long periods before making judgements in business. Fortunately, we can makes reasonably good estimates on the fly. For example, we can use a Laplace\u00a0<a href=\"http://en.wikipedia.org/wiki/Rule_of_succession\">rule of succession</a>\u00a0to calculate a\u00a0</span><span style=\"line-height: 1.5em;\">point estimate\u00a0</span><code style=\"line-height: 1.5em;\">p</code><span style=\"line-height: 1.5em;\">\u00a0and then a</span><span style=\"line-height: 1.5em;\">n\u00a0</span><a class=\"link \" href=\"http://www.measuringusability.com/wald.htm\" style=\"line-height: 1.5em;\">Adjusted Wald method</a><span style=\"line-height: 1.5em;\">\u00a0to construct a\u00a0</span><em style=\"line-height: 1.5em;\">confidence interval</em><span style=\"line-height: 1.5em;\">\u00a0around it:\u00a0</span></p>"
     ]
    },
    {
     "cell_type": "markdown",
     "metadata": {},
     "source": [
      "<p><span class=\"math-tex\" data-type=\"tex\">\\begin{eqnarray} z & = & 1.96 \\\\ { n }_{ adj } & = & { n+{ z }^{ 2 } } \\\\ { p }_{ adj } & = & { \\left( np+\\frac { { z }^{ 2 } }{ 2 }  \\right)  }/{ { n }_{ adj } } \\\\ conf & = & \\pm 1.96\\sqrt { \\frac { { p }_{ adj }(1-{ p }_{ adj }) }{ { n }_{ adj } }  }  \\\\ \\hat { p }  & = & \\frac { x+1 }{ n+2 }  \\end{eqnarray}</span></p>"
     ]
    },
    {
     "cell_type": "markdown",
     "metadata": {},
     "source": [
      "<p>Think of placing error bars around each estimate. Effectively that is what a point estimate with a confidence interval provides.\u00a0<span style=\"line-height: 1.5em;\">Try using the\u00a0</span><a class=\"link \" href=\"http://www.measuringusability.com/wald.htm\" style=\"line-height: 1.5em;\">Confidence Interval Calculator</a><span style=\"line-height: 1.5em;\">\u00a0on our data to calculate results -- or better yet, run the following code cell:</span></p>"
     ]
    },
    {
     "cell_type": "code",
     "collapsed": false,
     "input": [
      "with open(\"data/eight.csv\") as f:\n",
      "  print \"test\\tvisit\\tpurch\\tlower\\tpt est\\tupper\"\n",
      "\n",
      "  for line in f:\n",
      "    (test_id, visits, purchases) = line.strip().split(\",\")\n",
      "    x = float(purchases)\n",
      "    n = float(visits)\n",
      "    p = x / n\n",
      "\n",
      "    z = 1.96\n",
      "    n_adj = n + z**2\n",
      "    p_adj = ((n * p) + (z**2 / 2.0)) / n_adj\n",
      "\n",
      "    ci = 1.96 * sqrt(p_adj * (1.0 - p_adj) / n_adj)\n",
      "    lower = p_adj - ci\n",
      "    upper = p_adj + ci\n",
      "    \n",
      "    pt_est = (x + 1) / (n + 2)\n",
      "\n",
      "    print \"#%s\\t%5s\\t%5s\\t%0.4f\\t%0.4f\\t%0.4f\" % (test_id, visits, purchases, lower, pt_est, upper,)"
     ],
     "language": "python",
     "metadata": {},
     "outputs": []
    },
    {
     "cell_type": "markdown",
     "metadata": {},
     "source": [
      "<p>Notice that the confidence intervals overlap -- so there is no clear winner. We\u00a0should keep running customer experiments until we get more data. Even so, terminating any one of these experiments prematurely would be like throwing out the baby with the bath water. For example, if the next dozen purchases are in test #1 then it becomes a clear winner.</p>"
     ]
    },
    {
     "cell_type": "markdown",
     "metadata": {},
     "source": [
      "<figure><img style=\"width:50%\" alt=\"Alt Text\" class=\"iimgch03_intervalspng\" src=\"files/img/ch03_intervals.png\"><figcaption><em>Comparisons based on point estimates with confidence intervals</em></figcaption></figure>"
     ]
    },
    {
     "cell_type": "markdown",
     "metadata": {},
     "source": [
      "<p><span style=\"line-height: 1.5em;\">Let\u2019s go back to the point estimate formula:</span></p>"
     ]
    },
    {
     "cell_type": "markdown",
     "metadata": {},
     "source": [
      "<p><span style=\"line-height: 1.5em;\"><span class=\"math-tex\" data-type=\"tex\">\\begin{eqnarray} \\hat p\\space & =& \\frac { x+1 }{ n+2 } \\end{eqnarray}</span></span></p>"
     ]
    },
    {
     "cell_type": "markdown",
     "metadata": {},
     "source": [
      "<p><span style=\"line-height: 1.5em;\">N</span><span style=\"line-height: 1.5em;\">ote the\u00a0</span><code style=\"line-height: 1.5em;\">1</code><span style=\"line-height: 1.5em;\">\u00a0in the numerator and the\u00a0</span><code style=\"line-height: 1.5em;\">2</code><span style=\"line-height: 1.5em;\">\u00a0in the denominator. Those numbers represent a Bayesian practice that is sometimes called\u00a0</span><em style=\"line-height: 1.5em;\">shrinkage</em><span style=\"line-height: 1.5em;\">\u00a0\u2013\u00a0</span><a class=\"link \" href=\"http://www.cs.xu.edu/math/Sources/Laplace/index.html\">Pierre Simon Laplace</a><span style=\"line-height: 1.5em;\">\u00a0used it infamously to describe the probability of the sun rising tomorrow. In other words, the ratio of those numbers \u00a0</span><code style=\"line-height: 1.5em;\">1/2 = 0.5</code><span style=\"line-height: 1.5em;\">\u00a0represents even money, i.e., a coin flip. It serves as a\u00a0</span><em style=\"line-height: 1.5em;\">prior</em><span style=\"line-height: 1.5em;\">\u00a0in this case. The early results in any experiment will lack enough data to make a judgement, so we condition the decision with a coin flip.</span></p>"
     ]
    },
    {
     "cell_type": "markdown",
     "metadata": {},
     "source": [
      "<p>In terms of scoring the test, the question was \"<span style=\"line-height: 1.5em;\">Can you tell us which UX design has the lowest purchase rate?\u201d and the answer should be \u201cNo.\u201d</span></p>"
     ]
    },
    {
     "cell_type": "heading",
     "level": 2,
     "metadata": {},
     "source": [
      "Judgements in Isolation"
     ]
    },
    {
     "cell_type": "markdown",
     "metadata": {},
     "source": [
      "<p><span style=\"line-height: 1.5em;\">Back in \u201cye olde days\u201d when computers took up much of a room, we were taught to employ the following steps:</span></p>"
     ]
    },
    {
     "cell_type": "markdown",
     "metadata": {},
     "source": [
      "<ol>\n",
      "<li>prepare a sample of the data</li>\n",
      "\t<li>fit the sample to a known distribution</li>\n",
      "\t<li>perform significance tests to show how well the chosen distribution fits</li>\n",
      "\t<li>(effectively, stop looking at the sample data)</li>\n",
      "\t<li>make inferences based on the known distribution</li>\n",
      "</ol>\n"
     ]
    },
    {
     "cell_type": "markdown",
     "metadata": {},
     "source": [
      "<p>Those practices continue today. It\u2019s amazing how many\u00a0<a class=\"link \" href=\"http://lolmythesis.com/\" style=\"line-height: 1.5em;\">PhD dissertations</a>\u00a0are chock full of significance test such as\u00a0<a href=\"http://mathworld.wolfram.com/P-Value.html\" style=\"line-height: 1.5em;\">p-values</a>\u00a0and not much else. That conceptual lens places immense pressure on data models to be \u201ccorrect\u201d, while ignoring much of the data.</p>"
     ]
    },
    {
     "cell_type": "markdown",
     "metadata": {},
     "source": [
      "<p><span style=\"line-height: 1.5em;\">So let\u2019s take a look at another example. In our business case study, <em>Foobartendr.io</em>\u00a0has been gathering</span><span style=\"line-height: 1.5em;\">\u00a0customer feedback about who is the\u00a0<strong>Top Bartendr</strong>.\u00a0Customer use\u00a0<em>upvote</em>\u00a0and\u00a0<em>downvote</em>\u00a0buttons to rate the performance of individual Bartendrs.</span></p>"
     ]
    },
    {
     "cell_type": "markdown",
     "metadata": {},
     "source": [
      "**Problem:** Based on the customer votes in\u00a0the table below, which Bartendr has a better score, the longstanding leader Deepali or the newcomer Kirill?"
     ]
    },
    {
     "cell_type": "markdown",
     "metadata": {},
     "source": [
      "<p>The votes are listed in the table below:</p>"
     ]
    },
    {
     "cell_type": "markdown",
     "metadata": {},
     "source": [
      "<table>\n",
      "<colgroup>\n",
      "<col>\n",
      "<col>\n",
      "<col>\n",
      "</colgroup>\n",
      "<thead><tr>\n",
      "<th>bartendr</th>\n",
      "\t\t\t<th>upvote</th>\n",
      "\t\t\t<th>downvote</th>\n",
      "\t\t</tr></thead>\n",
      "<tbody>\n",
      "<tr>\n",
      "<td>Deepali</td>\n",
      "\t\t\t<td>45</td>\n",
      "\t\t\t<td>5</td>\n",
      "\t\t</tr>\n",
      "<tr>\n",
      "<td>Kirill</td>\n",
      "\t\t\t<td>2</td>\n",
      "\t\t\t<td>0</td>\n",
      "\t\t</tr>\n",
      "</tbody>\n",
      "</table>\n"
     ]
    },
    {
     "cell_type": "code",
     "collapsed": false,
     "input": [
      "%%bash\n",
      "cat <<EOF > data/barvote.csv\n",
      "Deepali,45,5\n",
      "Kirill,2,0\n",
      "EOF"
     ],
     "language": "python",
     "metadata": {},
     "outputs": []
    },
    {
     "cell_type": "markdown",
     "metadata": {},
     "source": [
      "<p><span style=\"line-height: 1.5em;\">Using a simple ratio, our relatively new team member Kirill would appear to take the lead with 100% upvotes. That analysis\u00a0</span><span style=\"line-height: 1.5em;\">does not pass a smell test.\u00a0</span></p>"
     ]
    },
    {
     "cell_type": "code",
     "collapsed": false,
     "input": [
      "with open(\"data/barvote.csv\") as f:\n",
      "  print \"bartendr\\tupvote\\tdnvote\\tfreq est\"\n",
      "\n",
      "  for line in f:\n",
      "    (bartendr, upvote, downvote) = line.strip().split(\",\")\n",
      "    freq_est = float(upvote) / (float(downvote) + float(upvote))\n",
      "    print \"%8s\\t%6s\\t%6s\\t%0.4f\" % (bartendr, upvote, downvote, freq_est,)"
     ],
     "language": "python",
     "metadata": {},
     "outputs": []
    },
    {
     "cell_type": "markdown",
     "metadata": {},
     "source": [
      "<p><span style=\"line-height: 1.5em;\">William Chen provided an\u00a0answer on a Quora question\u00a0</span>that cuts straight to this point:\u00a0<a class=\"link \" href=\"http://www.quora.com/Big-Data/What-are-the-advantages-of-Bayesian-methods-over-frequentist-methods-in-web-data\" style=\"line-height: 1.5em;\">What are the advantages of Bayesian methods over frequentist methods in web data?</a></p>"
     ]
    },
    {
     "cell_type": "markdown",
     "metadata": {},
     "source": [
      "<p><span style=\"line-height: 1.5em;\">To correct these kinds of upvote/downvote results, Chen used a\u00a0</span><code style=\"line-height: 1.5em;\">Beta(1, 1)</code><span style=\"line-height: 1.5em;\">\u00a0prior. That shrinkage adds one upvote and one downvote as the prior \u2013 effectively, even money.</span><span style=\"line-height: 1.5em;\">As a programming exercise, extend the following to calculate a Bayesian estimate:</span></p>"
     ]
    },
    {
     "cell_type": "code",
     "collapsed": false,
     "input": [
      "with open(\"data/barvote.csv\") as f:\n",
      "  print \"bartendr\\tupvote\\tdnvote\\tfreq\\tbayes\"\n",
      "\n",
      "  for line in f:\n",
      "    (bartendr, upvote, downvote) = line.strip().split(\",\")\n",
      "    freq_est = float(upvote) / (float(downvote) + float(upvote))\n",
      "\n",
      "    # fix this line:\n",
      "    bayes_est = float(upvote) / (float(downvote) + float(upvote))\n",
      "\n",
      "    print \"%8s\\t%6s\\t%6s\\t%0.4f\\t%0.4f\" % (bartendr, upvote, downvote, freq_est, bayes_est)"
     ],
     "language": "python",
     "metadata": {},
     "outputs": []
    },
    {
     "cell_type": "markdown",
     "metadata": {},
     "source": [
      "<p>What values do you get? Ostensibly, Deepali will rank above Kirill.\u00a0<span style=\"line-height: 1.5em;\">Clearly, our\u00a0</span><em style=\"line-height: 1.5em;\">Foobartendr.io</em><span style=\"line-height: 1.5em;\">\u00a0reigning champ Deepali successfully defends her\u00a0</span><strong style=\"line-height: 1.5em;\">Top Bartendr</strong><span style=\"line-height: 1.5em;\">\u00a0title!</span></p>"
     ]
    },
    {
     "cell_type": "markdown",
     "metadata": {},
     "source": [
      "<p><span style=\"line-height: 1.5em;\">Chen adds an important observation in that post:</span></p>"
     ]
    },
    {
     "cell_type": "markdown",
     "metadata": {},
     "source": [
      "<blockquote>\n",
      "<p><em>Bayesian methods allow us to use priors to help with regularization.</em></p>\n",
      "</blockquote>"
     ]
    },
    {
     "cell_type": "markdown",
     "metadata": {},
     "source": [
      "<p>We will come back to that notion of\u00a0<em>regularization<a data-primary=\"regularization\" data-type=\"indexterm\" id=\"idp252592\"></a></em>\u00a0in a later chapter. For now, keep in mind that we must avoid making estimates that are wildly off the mark. That can be a significant problem in machine learning use cases.</p>"
     ]
    }
   ],
   "metadata": {}
  }
 ]
}