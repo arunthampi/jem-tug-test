{
 "metadata": {
  "name": ""
 },
 "nbformat": 3,
 "nbformat_minor": 0,
 "worksheets": [
  {
   "cells": [
    {
     "cell_type": "heading",
     "level": 1,
     "metadata": {},
     "source": [
      "Lesson 11: Neural Networks"
     ]
    },
    {
     "cell_type": "markdown",
     "metadata": {},
     "source": [
      "[Artificial neural networks](http://en.wikipedia.org/wiki/Artificial_neural_network) provide systems for pattern recognition, typically as a machine learning approach for building *classifiers*. They tend to use multiple layers of artificial neurons: *input*, *output*, plus some number of *hidden layers* in-between\u2026"
     ]
    },
    {
     "cell_type": "markdown",
     "metadata": {},
     "source": [
      "Our case study company, *Foobartendr.io*, has cut a deal with several large cities agreeing not to deliver drinks during parades. Apparently the drones and drinks make parade crowds too lively. Consequently, city vehicles in those municipalities now have special beacons installed to help warn away the drones from parade route \"no fly\" zones. Let's leverage the pattern recognition capabilities of neural networks to support that compliance."
     ]
    },
    {
     "cell_type": "markdown",
     "metadata": {},
     "source": [
      "**Problem:** Train a classifier to recognize the beacon signals shown in the table below, for \u201cparade route avoidance\u201d:"
     ]
    },
    {
     "cell_type": "markdown",
     "metadata": {},
     "source": [
      "| *drone policy* | *input: beacon* | *output: no fly* |\n",
      "|----------------|----------|----------|\n",
      "| Delivery OK | 0 0 0 | 0 |\n",
      "| Delivery OK | 0 1 0 | 0 |\n",
      "| Parade in Progress | 1 1 0 | 1 |\n",
      "| Parade in Progress | 1 0 1 | 1 |"
     ]
    },
    {
     "cell_type": "markdown",
     "metadata": {},
     "source": [
      "We use the [Neurolab](http://pythonhosted.org//neurolab/lib.html) package to define a [feed forward multilayer perceptron](http://pythonhosted.org//neurolab/ex_newff.html) neural network with 3 inputs, 4 neurons in the hidden layer, and 1 output:"
     ]
    },
    {
     "cell_type": "code",
     "collapsed": false,
     "input": [
      "import neurolab as nl\n",
      "\n",
      "net = nl.net.newff([[0, 1], [0, 1], [0, 1]], [4, 1])"
     ],
     "language": "python",
     "metadata": {},
     "outputs": []
    },
    {
     "cell_type": "markdown",
     "metadata": {},
     "source": [
      "Next, we define the vectors of input and output values for the training data:"
     ]
    },
    {
     "cell_type": "code",
     "collapsed": false,
     "input": [
      "input = [[0, 0, 0], [0, 1, 0], [1, 1, 0], [1, 0, 1]]\n",
      "output = [[0], [0], [1], [1]]"
     ],
     "language": "python",
     "metadata": {},
     "outputs": []
    },
    {
     "cell_type": "markdown",
     "metadata": {},
     "source": [
      "Then we train the neural network, based on the input and outputs and using *gradient descent*, showing its progress after every 20 epochs:"
     ]
    },
    {
     "cell_type": "code",
     "collapsed": false,
     "input": [
      "net.trainf = nl.train.train_gdx\n",
      "error = net.train(input, output, show=20)"
     ],
     "language": "python",
     "metadata": {},
     "outputs": []
    },
    {
     "cell_type": "markdown",
     "metadata": {},
     "source": [
      "Given that our *learning* has generated a *classifier*, next we should evaluate its predictive accuracy:"
     ]
    },
    {
     "cell_type": "code",
     "collapsed": false,
     "input": [
      "import numpy as np\n",
      "\n",
      "sq_error = []\n",
      "\n",
      "for i in xrange(len(input)):\n",
      "    expected = output[i][0]\n",
      "    observed = net.sim([input[i]])[0][0]\n",
      "    sq_error.append((expected - observed) ** 2)\n",
      "    print \"expected %d, observed %0.2f\" % (expected, observed)\n",
      "    \n",
      "rmse = np.sqrt(np.mean((sq_error)))\n",
      "print \"RMSE %0.4f\" % (rmse)"
     ],
     "language": "python",
     "metadata": {},
     "outputs": []
    },
    {
     "cell_type": "markdown",
     "metadata": {},
     "source": [
      "Having the [RMSE](http://en.wikipedia.org/wiki/Root-mean-square_deviation) anywhere near zero indicates that our classifier is performing accurately. Next, let's visualize the error during the training iterations, to show the gradient descent optimization in action:"
     ]
    },
    {
     "cell_type": "code",
     "collapsed": false,
     "input": [
      "import pylab as pl\n",
      "\n",
      "pl.plot(error)\n",
      "pl.xlabel('Epoch number')\n",
      "pl.ylabel('Train error')\n",
      "pl.grid()\n",
      "\n",
      "pl.show()"
     ],
     "language": "python",
     "metadata": {},
     "outputs": []
    },
    {
     "cell_type": "markdown",
     "metadata": {},
     "source": [
      "It's safe to say that the happy parade-goers will not be tempted to get sauced on our cocktails whilst in public. In that case, we might just as well make a video ad about this by riffing off the movie [1984](http://en.wikipedia.org/wiki/Nineteen_Eighty-Four). Or something."
     ]
    },
    {
     "cell_type": "markdown",
     "metadata": {},
     "source": [
      "*Installation notes:*\n",
      "\n",
      "  * [NumPy, Matplotlib](https://store.continuum.io/cshop/anaconda/)\n",
      "  * [Neurolab](http://pythonhosted.org//neurolab/lib.html)"
     ]
    }
   ],
   "metadata": {}
  }
 ]
}